{
 "cells": [
  {
   "cell_type": "markdown",
   "metadata": {},
   "source": [
    "# ChemometricsPLS\n",
    "## Scikit-Learn based objects for Chemometrics"
   ]
  },
  {
   "cell_type": "markdown",
   "metadata": {},
   "source": [
    "Code and data imports\n",
    "Dataset used in example is TRACE Lipofit data"
   ]
  },
  {
   "cell_type": "code",
   "execution_count": 5,
   "metadata": {
    "collapsed": false
   },
   "outputs": [],
   "source": [
    "import pandas as pds\n",
    "from ChemometricsPLS import ChemometricsPLS as chempls\n",
    "from ChemometricsScaler import ChemometricsScaler\n",
    "from sklearn.decomposition import PCA\n",
    "import matplotlib.pyplot as plt\n",
    "import numpy as np\n",
    "\n",
    "# Read lipofit data, perfect example for CV testing since it has classes and nested data\n",
    "matrix = pds.read_csv('ExampleFile(TRACElipofitmat).csv')\n",
    "# the X matrix\n",
    "xmat = matrix.iloc[:, 9::]\n",
    "%matplotlib inline\n",
    "\n",
    "ymat = matrix.iloc[:, 8].values"
   ]
  },
  {
   "cell_type": "markdown",
   "metadata": {},
   "source": [
    "One of the arguments for the ChemometricsPLS object constructor is the choice of scaling.  \n",
    "When a scikit-Learn-like preprocessing TransformerMixin/Scaler is passed to the ChemometricsPCA object, it \n",
    "will be used consistently throughout all the object.  \n",
    "\n",
    "The ChemometricsScaler object is a modification of the default scikit-learn StandardScaler.  \n",
    "It contains a parameter, scale_power, which is the power to which the standard deviation vector will be raised for the scaling.  \n",
    "Typical Values:  \n",
    "0 - Mean Centering only  \n",
    "1/2 - Pareto Scaling  \n",
    "1 - UV/Unit Variance, StandardScaler  "
   ]
  },
  {
   "cell_type": "code",
   "execution_count": 6,
   "metadata": {
    "collapsed": true
   },
   "outputs": [],
   "source": [
    "scalerobj = ChemometricsScaler(scale_power=1)"
   ]
  },
  {
   "cell_type": "code",
   "execution_count": 11,
   "metadata": {
    "collapsed": false
   },
   "outputs": [],
   "source": [
    "ChmxPCA = chempls(ncomps=3, xscaler=scalerobj, yscaler=scalerobj, metadata=None)"
   ]
  },
  {
   "cell_type": "markdown",
   "metadata": {},
   "source": [
    "The constructor for the ChemometricsPLS object has the arguments ncomps (number of principal components), pls_algorithm (which base scikit-learn algorithm to use), scaler (the scikit-learn scaler object as described) and metadata (a pandas dataframe, whose point is to contain metadata to use in plots and Stratified-Cross-Validation).\n",
    "Keyword arguments can be passed, usefull to provide extra parameters for different types of PCA algorithms.\n",
    "\n",
    "The pca_algorithm takes all scikit-learn objects that inherit from the abstract \\_BasePCA class.  \n",
    "At the momment these are:  \n",
    "PCA - the default SVD PCA.  \n",
    "TruncatedSVD - Usefull for sparse matrices\n",
    "Incremental PCA - For batch fitting of large datasets  \n",
    "\n",
    "Other types of PCA and factor models, including KernelPCA, are in theory possible, \n",
    "but these have to be discussed on a case per case basis, as variance explained, \n",
    "model performance or even loadings are sometimes not defined."
   ]
  },
  {
   "cell_type": "markdown",
   "metadata": {},
   "source": [
    "The behaviour of the model is identical to standard scikit-learn models"
   ]
  },
  {
   "cell_type": "code",
   "execution_count": 4,
   "metadata": {
    "collapsed": false
   },
   "outputs": [],
   "source": [
    "ChmxPCA.fit(xmat.values)\n",
    "scores = ChmxPCA.transform(xmat.values)"
   ]
  },
  {
   "cell_type": "markdown",
   "metadata": {},
   "source": [
    "After the model is fitted, internal attributes containing the Variance explained, scores and loadings are generated.\n",
    "The scaling is consistant"
   ]
  },
  {
   "cell_type": "code",
   "execution_count": 1,
   "metadata": {
    "collapsed": false
   },
   "outputs": [
    {
     "ename": "NameError",
     "evalue": "name 'ChmxPCA' is not defined",
     "output_type": "error",
     "traceback": [
      "\u001b[1;31m---------------------------------------------------------------------------\u001b[0m",
      "\u001b[1;31mNameError\u001b[0m                                 Traceback (most recent call last)",
      "\u001b[1;32m<ipython-input-1-6145e57ec547>\u001b[0m in \u001b[0;36m<module>\u001b[1;34m()\u001b[0m\n\u001b[1;32m----> 1\u001b[1;33m \u001b[0mprint\u001b[0m\u001b[1;33m(\u001b[0m\u001b[0mChmxPCA\u001b[0m\u001b[1;33m.\u001b[0m\u001b[0mmodelParameters\u001b[0m\u001b[1;33m)\u001b[0m\u001b[1;33m\u001b[0m\u001b[0m\n\u001b[0m\u001b[0;32m      2\u001b[0m \u001b[0mprint\u001b[0m\u001b[1;33m(\u001b[0m\u001b[0mChmxPCA\u001b[0m\u001b[1;33m.\u001b[0m\u001b[0mscores\u001b[0m\u001b[1;33m.\u001b[0m\u001b[0mshape\u001b[0m\u001b[1;33m)\u001b[0m\u001b[1;33m\u001b[0m\u001b[0m\n\u001b[0;32m      3\u001b[0m \u001b[0mprint\u001b[0m\u001b[1;33m(\u001b[0m\u001b[0mChmxPCA\u001b[0m\u001b[1;33m.\u001b[0m\u001b[0mloadings\u001b[0m\u001b[1;33m.\u001b[0m\u001b[0mshape\u001b[0m\u001b[1;33m)\u001b[0m\u001b[1;33m\u001b[0m\u001b[0m\n\u001b[0;32m      4\u001b[0m \u001b[0mplt\u001b[0m\u001b[1;33m.\u001b[0m\u001b[0mplot\u001b[0m\u001b[1;33m(\u001b[0m\u001b[0mChmxPCA\u001b[0m\u001b[1;33m.\u001b[0m\u001b[0mloadings\u001b[0m\u001b[1;33m.\u001b[0m\u001b[0mT\u001b[0m\u001b[1;33m)\u001b[0m\u001b[1;33m\u001b[0m\u001b[0m\n\u001b[0;32m      5\u001b[0m \u001b[0mplt\u001b[0m\u001b[1;33m.\u001b[0m\u001b[0mshow\u001b[0m\u001b[1;33m(\u001b[0m\u001b[1;33m)\u001b[0m\u001b[1;33m\u001b[0m\u001b[0m\n",
      "\u001b[1;31mNameError\u001b[0m: name 'ChmxPCA' is not defined"
     ]
    }
   ],
   "source": [
    "print(ChmxPCA.modelParameters)\n",
    "print(ChmxPCA.scores.shape)\n",
    "print(ChmxPCA.loadings.shape)\n",
    "plt.plot(ChmxPCA.loadings.T)\n",
    "plt.show()"
   ]
  },
  {
   "cell_type": "markdown",
   "metadata": {},
   "source": [
    "Appropriate setters are inplace to ensure the appropriate action (re-fit, reset model stats) is taken when internal parameters are changed. Most methods take keyword arguments apart from the arguments here described. This ensures model specific arguments can still be used easily (for ex:, solver initial conditions and tolerances). "
   ]
  },
  {
   "cell_type": "code",
   "execution_count": 2,
   "metadata": {
    "collapsed": false
   },
   "outputs": [
    {
     "ename": "NameError",
     "evalue": "name 'ChemometricsScaler' is not defined",
     "output_type": "error",
     "traceback": [
      "\u001b[1;31m---------------------------------------------------------------------------\u001b[0m",
      "\u001b[1;31mNameError\u001b[0m                                 Traceback (most recent call last)",
      "\u001b[1;32m<ipython-input-2-628d50cc454b>\u001b[0m in \u001b[0;36m<module>\u001b[1;34m()\u001b[0m\n\u001b[1;32m----> 1\u001b[1;33m \u001b[0mChmxPCA\u001b[0m\u001b[1;33m.\u001b[0m\u001b[0mscaler\u001b[0m \u001b[1;33m=\u001b[0m \u001b[0mChemometricsScaler\u001b[0m\u001b[1;33m(\u001b[0m\u001b[1;36m0\u001b[0m\u001b[1;33m)\u001b[0m\u001b[1;33m\u001b[0m\u001b[0m\n\u001b[0m\u001b[0;32m      2\u001b[0m \u001b[0mprint\u001b[0m\u001b[1;33m(\u001b[0m\u001b[1;34m'After changing the scaling, the loadings are equal to: '\u001b[0m \u001b[1;33m+\u001b[0m \u001b[0mstr\u001b[0m\u001b[1;33m(\u001b[0m\u001b[0mChmxPCA\u001b[0m\u001b[1;33m.\u001b[0m\u001b[0mloadings\u001b[0m\u001b[1;33m)\u001b[0m\u001b[1;33m)\u001b[0m\u001b[1;33m\u001b[0m\u001b[0m\n\u001b[0;32m      3\u001b[0m \u001b[0mChmxPCA\u001b[0m\u001b[1;33m.\u001b[0m\u001b[0mfit\u001b[0m\u001b[1;33m(\u001b[0m\u001b[0mxmat\u001b[0m\u001b[1;33m.\u001b[0m\u001b[0mvalues\u001b[0m\u001b[1;33m)\u001b[0m\u001b[1;33m\u001b[0m\u001b[0m\n\u001b[0;32m      4\u001b[0m \u001b[1;31m#print('Loadings for mean centered data:')\u001b[0m\u001b[1;33m\u001b[0m\u001b[1;33m\u001b[0m\u001b[0m\n\u001b[0;32m      5\u001b[0m \u001b[1;33m\u001b[0m\u001b[0m\n",
      "\u001b[1;31mNameError\u001b[0m: name 'ChemometricsScaler' is not defined"
     ]
    }
   ],
   "source": [
    "ChmxPCA.scaler = ChemometricsScaler(0)\n",
    "print('After changing the scaling, the loadings are equal to: ' + str(ChmxPCA.loadings))\n",
    "ChmxPCA.fit(xmat.values)\n",
    "#print('Loadings for mean centered data:')\n",
    "\n",
    "plt.plot(ChmxPCA.loadings.T)\n",
    "plt.show()\n",
    "# Return to normal\n",
    "ChmxPCA.scaler = ChemometricsScaler(1)"
   ]
  },
  {
   "cell_type": "markdown",
   "metadata": {},
   "source": [
    "To perform model parameter optimization and cross-validate the ChemometricsPCA object, we can employ the default scikit-learn tools (including Pipeline).  \n",
    "A specific cross_validation method is also provided, for automated calculation of cross-validated performance measures.  \n",
    "\n",
    "The arguments for this method include:  \n",
    "x - The data to use incross_validation  \n",
    "method - An instance of scikit-learn BaseCrossValidator. The default is KFold(7, True), 7-fold with shuffling of rows is used by default.  \n",
    "outputdist: If true, the whole distribution of model performance metrics and loadings obtained during cross-validation is returned, in addition to its default summary statistics (mean and standard deviations).   \n",
    "bro_press: How to calculate the PRESS and RSS statistics. If set to false, row-wise cross-validation is used. If true, the Eigenvector_PRESS algorithm (as described in Bro et al 2005) is used to calculate model statistics (VarianceExplained in test set, PRESS and Q2)."
   ]
  },
  {
   "cell_type": "code",
   "execution_count": 7,
   "metadata": {
    "collapsed": true
   },
   "outputs": [],
   "source": [
    "ChmxPCA.cross_validation(xmat.values, outputdist=True, bro_press=True)"
   ]
  },
  {
   "cell_type": "markdown",
   "metadata": {},
   "source": [
    "Scaling is recalculated inside each CV round, and the sign indeterminacy of the PCA solution is addressed by selecting the sign of the loadings that minimizes the sum of absolute differences from the corresponding loadings calculated with on the whole dataset.  \n",
    "After cross-validation, a new attribute, cvParameters is created in the object."
   ]
  },
  {
   "cell_type": "code",
   "execution_count": 8,
   "metadata": {
    "collapsed": false
   },
   "outputs": [
    {
     "name": "stdout",
     "output_type": "stream",
     "text": [
      "dict_keys(['CV_VarExp_Test', 'Mean_VarExp_Test', 'CV_Loadings', 'Stdev_VarExpRatio_Training', 'Mean_Loadings', 'Mean_VarExpRatio_Training', 'CV_VarExpRatio_Training', 'Stdev_Loadings', 'Q2', 'Stdev_VarExp_Test'])\n"
     ]
    },
    {
     "data": {
      "image/png": "[encoded data removed]",
      "text/plain": [
       "<matplotlib.figure.Figure at 0x7f5aae45fcc0>"
      ]
     },
     "metadata": {},
     "output_type": "display_data"
    },
    {
     "name": "stdout",
     "output_type": "stream",
     "text": [
      "Loadings calculated during the CV for component number 1, after sign indeterminacy re-flip\n"
     ]
    }
   ],
   "source": [
    "print(ChmxPCA.cvParameters.keys())\n",
    "plt.plot(ChmxPCA.cvParameters['CV_Loadings'][0].T)\n",
    "plt.show()\n",
    "print('Loadings calculated during the CV for component number 1, after sign indeterminacy re-flip')"
   ]
  },
  {
   "cell_type": "markdown",
   "metadata": {},
   "source": [
    "Comparison of model performance for multiple components (such as in selection of number of components) can be easily with multiple calls to the cross_validation function.  \n",
    "An example follows, displaying a comparison between the statistics calculated with row-wise CV versus Eigenvector_PRESS CV. "
   ]
  },
  {
   "cell_type": "code",
   "execution_count": 9,
   "metadata": {
    "collapsed": false
   },
   "outputs": [],
   "source": [
    "ncomps = 3\n",
    "\n",
    "qsquareds = []\n",
    "r2test = []\n",
    "r2test_var = []\n",
    "\n",
    "for curr_ncomp in range(1, ncomps+1):\n",
    "    pca = chempca(ncomps=curr_ncomp)\n",
    "    pca.cross_validation(x=xmat.values, bro_press=False)\n",
    "    qsquareds.append(pca.cvParameters['Q2'])\n",
    "    r2test.append(pca.cvParameters['Mean_VarExp_Test'])\n",
    "    r2test_var.append(pca.cvParameters['Stdev_VarExp_Test'])\n",
    "qsquareds_bro= []\n",
    "r2test_bro = []\n",
    "r2test_brovar = []\n",
    "for curr_ncomp in range(1, ncomps+1):\n",
    "    pca = chempca(ncomps=curr_ncomp)\n",
    "    pca.cross_validation(x=xmat.values, bro_press=True)\n",
    "    qsquareds_bro.append(pca.cvParameters['Q2'])\n",
    "    r2test_bro.append(pca.cvParameters['Mean_VarExp_Test'])\n",
    "    r2test_brovar.append(pca.cvParameters['Stdev_VarExp_Test'])"
   ]
  },
  {
   "cell_type": "markdown",
   "metadata": {},
   "source": [
    "The model performance metrics available are:\n",
    "VarExpRatio of the global model (obtained from .modelParameters and not cvParameters): The VarianceExplained proportion obtained when fitting the whole dataset.\n",
    "\n",
    "VarExp_Train: The VarianceExplained values obtained for all Principal components when fitting the data in the training set. Not a reliable way to assess reliability of prediction, but might be interesting to see the variability in the model fitting and stability of components. Can be interpreted in conjunction with the CV loadings. \n",
    "\n",
    "Q2: A single summary statistics. One of the default metrics for model assessment in Chemometrics. BAsed on the PRESS/RSS calculated from all the test sets. Single value for the whole model. \n",
    "\n",
    "VarExp_Test: The variance explained by the whole model in each CV round, but calculated on the test set. One value for each round of cross_validation. Although its mean value should be similar to Q2 in the end, the distribution can be used to assess the variability of the predictive power estimate, something the Q2 does not convey.\n",
    "\n",
    "All these are provided as mean and standard deviation (summary) or in bulk (whole distributions)"
   ]
  },
  {
   "cell_type": "code",
   "execution_count": 10,
   "metadata": {
    "collapsed": false
   },
   "outputs": [
    {
     "data": {
      "image/png": "[encoded data removed]",
      "text/plain": [
       "<matplotlib.figure.Figure at 0x7f5aae2ee908>"
      ]
     },
     "metadata": {},
     "output_type": "display_data"
    },
    {
     "name": "stdout",
     "output_type": "stream",
     "text": [
      "The cross-validated variance explained calculated in the training set\n"
     ]
    }
   ],
   "source": [
    "ChmxPCA.cross_validation(xmat.values, outputdist=True, bro_press=True)\n",
    "fig, ax = plt.subplots()\n",
    "ax.violinplot(np.array(ChmxPCA.cvParameters['CV_VarExpRatio_Training']))\n",
    "plt.xlabel('Principal Component')\n",
    "plt.ylabel('R2X in Training Sets')\n",
    "plt.show()\n",
    "print('The cross-validated variance explained calculated in the training set')"
   ]
  },
  {
   "cell_type": "code",
   "execution_count": 13,
   "metadata": {
    "collapsed": false
   },
   "outputs": [],
   "source": [
    "%matplotlib qt\n",
    "location = np.arange(ncomps)  # the x locations for the groups\n",
    "width = 0.4      # the width of the bars\n",
    "\n",
    "fig, ax = plt.subplots()\n",
    "rects1 = ax.bar(location, r2test, width/4, color='b', yerr=[2*x for x in r2test_var])\n",
    "rects2 = ax.bar(location + 0.25*width, r2test_bro, width/4, color='r', yerr=[2*x for x in r2test_brovar])\n",
    "rects3 = ax.bar(location + 0.5*width,  qsquareds, width/4, color='g')\n",
    "rects4 = ax.bar(location + 0.75*width,  qsquareds_bro, width/4, color='k')\n",
    "ax.set_ylabel('Variance Explained')\n",
    "ax.set_xlabel('PCA component')\n",
    "ax.set_title('PerformanceMetrics')\n",
    "ax.set_xticks(location+ 0.7*width/2)\n",
    "ax.set_xticklabels((1, 2, 3 ))\n",
    "\n",
    "ax.legend((rects1[0], rects2[0], rects3[0], rects4[0]), ('R2X_TestSet-Row-wise CV', 'R2X_TestSet-EigenvectorPRESS CV', 'Q2X_Row-wiseCV', 'Q2X_EigenvectorPRESS CV'))\n",
    "plt.show()"
   ]
  },
  {
   "cell_type": "markdown",
   "metadata": {},
   "source": [
    "As an extra, 2 permutation tests have been implemented for PCA:  \n",
    "permutationtest_components:  Permute multiple elements in various columns of the matrix at once destroy multivariate structure in X and generate a null distribution for the Variance Explained per components - To assess significance of components/model.  \n",
    "permutationtest_loadings: Permute each variable X times. Maintaisn general multivariate structure in X, but breaks the association of each variable with the remaining component/correlation structure in X. Slower, but generates a null distribution for the loading magnitude for each variable in each component. "
   ]
  },
  {
   "cell_type": "code",
   "execution_count": 12,
   "metadata": {
    "collapsed": false
   },
   "outputs": [
    {
     "ename": "AttributeError",
     "evalue": "'ChemometricsPCA' object has no attribute 'ModelParameters'",
     "output_type": "error",
     "traceback": [
      "\u001b[1;31m---------------------------------------------------------------------------\u001b[0m",
      "\u001b[1;31mAttributeError\u001b[0m                            Traceback (most recent call last)",
      "\u001b[1;32m<ipython-input-12-ed00d61d1a68>\u001b[0m in \u001b[0;36m<module>\u001b[1;34m()\u001b[0m\n\u001b[1;32m----> 1\u001b[1;33m \u001b[0mperm_null_comps\u001b[0m \u001b[1;33m=\u001b[0m \u001b[0mChmxPCA\u001b[0m\u001b[1;33m.\u001b[0m\u001b[0mpermutationtest_components\u001b[0m\u001b[1;33m(\u001b[0m\u001b[0mxmat\u001b[0m\u001b[1;33m.\u001b[0m\u001b[0mvalues\u001b[0m\u001b[1;33m,\u001b[0m \u001b[1;36m1000\u001b[0m\u001b[1;33m)\u001b[0m\u001b[1;33m\u001b[0m\u001b[0m\n\u001b[0m",
      "\u001b[1;32m/home/gd2212/PycharmProjects/Chemometrics/ChemometricsPCA.py\u001b[0m in \u001b[0;36mpermutationtest_components\u001b[1;34m(self, x, nperms)\u001b[0m\n\u001b[0;32m    429\u001b[0m \u001b[1;33m\u001b[0m\u001b[0m\n\u001b[0;32m    430\u001b[0m         \u001b[1;32mexcept\u001b[0m \u001b[0mException\u001b[0m \u001b[1;32mas\u001b[0m \u001b[0mexp\u001b[0m\u001b[1;33m:\u001b[0m\u001b[1;33m\u001b[0m\u001b[0m\n\u001b[1;32m--> 431\u001b[1;33m             \u001b[1;32mraise\u001b[0m \u001b[0mexp\u001b[0m\u001b[1;33m\u001b[0m\u001b[0m\n\u001b[0m\u001b[0;32m    432\u001b[0m \u001b[1;33m\u001b[0m\u001b[0m\n\u001b[0;32m    433\u001b[0m     \u001b[1;32mdef\u001b[0m \u001b[0mscore_plot\u001b[0m\u001b[1;33m(\u001b[0m\u001b[0mself\u001b[0m\u001b[1;33m,\u001b[0m \u001b[0mpcs\u001b[0m\u001b[1;33m=\u001b[0m\u001b[1;33m[\u001b[0m\u001b[1;36m1\u001b[0m\u001b[1;33m,\u001b[0m\u001b[1;36m2\u001b[0m\u001b[1;33m]\u001b[0m\u001b[1;33m,\u001b[0m \u001b[0mhotelingt\u001b[0m\u001b[1;33m=\u001b[0m\u001b[1;36m0.95\u001b[0m\u001b[1;33m)\u001b[0m\u001b[1;33m:\u001b[0m\u001b[1;33m\u001b[0m\u001b[0m\n",
      "\u001b[1;32m/home/gd2212/PycharmProjects/Chemometrics/ChemometricsPCA.py\u001b[0m in \u001b[0;36mpermutationtest_components\u001b[1;34m(self, x, nperms)\u001b[0m\n\u001b[0;32m    425\u001b[0m                 \u001b[0mpermute_class\u001b[0m\u001b[1;33m.\u001b[0m\u001b[0mfit\u001b[0m\u001b[1;33m(\u001b[0m\u001b[0mx\u001b[0m\u001b[1;33m)\u001b[0m\u001b[1;33m\u001b[0m\u001b[0m\n\u001b[0;32m    426\u001b[0m                 \u001b[0mx\u001b[0m \u001b[1;33m=\u001b[0m \u001b[0morig\u001b[0m\u001b[1;33m\u001b[0m\u001b[0m\n\u001b[1;32m--> 427\u001b[1;33m                 \u001b[0mpermuted_varExp\u001b[0m\u001b[1;33m.\u001b[0m\u001b[0mappend\u001b[0m\u001b[1;33m(\u001b[0m\u001b[0mpermute_class\u001b[0m\u001b[1;33m.\u001b[0m\u001b[0mModelParameters\u001b[0m\u001b[1;33m[\u001b[0m\u001b[1;34m'VarExpRatio'\u001b[0m\u001b[1;33m]\u001b[0m\u001b[1;33m)\u001b[0m\u001b[1;33m\u001b[0m\u001b[0m\n\u001b[0m\u001b[0;32m    428\u001b[0m             \u001b[1;32mreturn\u001b[0m \u001b[0mpermuted_varExp\u001b[0m\u001b[1;33m\u001b[0m\u001b[0m\n\u001b[0;32m    429\u001b[0m \u001b[1;33m\u001b[0m\u001b[0m\n",
      "\u001b[1;31mAttributeError\u001b[0m: 'ChemometricsPCA' object has no attribute 'ModelParameters'"
     ]
    }
   ],
   "source": [
    "perm_null_comps = ChmxPCA.permutationtest_components(xmat.values, 1000)"
   ]
  },
  {
   "cell_type": "code",
   "execution_count": null,
   "metadata": {
    "collapsed": false
   },
   "outputs": [],
   "source": [
    "permu_null_loadings = ChmxPCA.permutationtest_loadings(xmat.values, 1000)"
   ]
  },
  {
   "cell_type": "code",
   "execution_count": null,
   "metadata": {
    "collapsed": false
   },
   "outputs": [],
   "source": [
    "%matplotlib inline\n",
    "plt.hist(permu_null_loadings[1][:, 0], 20)\n",
    "plt.show()"
   ]
  },
  {
   "cell_type": "code",
   "execution_count": null,
   "metadata": {
    "collapsed": true
   },
   "outputs": [],
   "source": []
  }
 ],
 "metadata": {
  "kernelspec": {
   "display_name": "Python 3",
   "language": "python",
   "name": "python3"
  },
  "language_info": {
   "codemirror_mode": {
    "name": "ipython",
    "version": 3
   },
   "file_extension": ".py",
   "mimetype": "text/x-python",
   "name": "python",
   "nbconvert_exporter": "python",
   "pygments_lexer": "ipython3",
   "version": "3.5.1"
  }
 },
 "nbformat": 4,
 "nbformat_minor": 0
}
